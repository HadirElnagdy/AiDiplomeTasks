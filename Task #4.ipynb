{
 "cells": [
  {
   "cell_type": "markdown",
   "id": "1b554fb9",
   "metadata": {},
   "source": [
    "# Understanding tree implementation"
   ]
  },
  {
   "cell_type": "code",
   "execution_count": 1,
   "id": "c5aa46b9",
   "metadata": {
    "ExecuteTime": {
     "end_time": "2021-08-06T15:40:10.883409Z",
     "start_time": "2021-08-06T15:40:10.875519Z"
    }
   },
   "outputs": [
    {
     "name": "stdout",
     "output_type": "stream",
     "text": [
      "5\n",
      "18\n",
      "19\n",
      "20\n",
      "21\n",
      "22\n",
      "24\n"
     ]
    }
   ],
   "source": [
    "class Tree:\n",
    "  def __init__(self, val = None):\n",
    "    if val != None:\n",
    "\t    self.val = val\n",
    "    else:\n",
    "        self.val = None\n",
    "    self.left = None\n",
    "    self.right = None\n",
    "\n",
    "  def insert(self, val):\n",
    "    if self.val:\n",
    "        if val < self.val:\n",
    "            if self.left is None:\n",
    "            \tself.left = Tree(val)\n",
    "            else:\n",
    "            \tself.left.insert(val)\n",
    "        elif val > self.val:\n",
    "            if self.right is None:\n",
    "                self.right = Tree(val)\n",
    "            else:\n",
    "                self.right.insert(val)\n",
    "    else:\n",
    "        self.val = val\n",
    "\n",
    "  def printValues(self):\n",
    "    if self.left:\n",
    "        self.left.printValues()\n",
    "    print(self.val)\n",
    "    if self.right:\n",
    "        self.right.printValues()\n",
    "\n",
    "tree = Tree(20)\n",
    "tree.left = Tree(18)\n",
    "tree.right = Tree(22)\n",
    "tree.insert(19)\n",
    "tree.insert(24)\n",
    "tree.insert(5)\n",
    "tree.insert(21)\n",
    "\n",
    "tree.printValues()"
   ]
  },
  {
   "cell_type": "code",
   "execution_count": null,
   "id": "618c38b3",
   "metadata": {},
   "outputs": [],
   "source": []
  }
 ],
 "metadata": {
  "kernelspec": {
   "display_name": "Python 3",
   "language": "python",
   "name": "python3"
  },
  "language_info": {
   "codemirror_mode": {
    "name": "ipython",
    "version": 3
   },
   "file_extension": ".py",
   "mimetype": "text/x-python",
   "name": "python",
   "nbconvert_exporter": "python",
   "pygments_lexer": "ipython3",
   "version": "3.8.8"
  },
  "latex_envs": {
   "LaTeX_envs_menu_present": true,
   "autoclose": false,
   "autocomplete": true,
   "bibliofile": "biblio.bib",
   "cite_by": "apalike",
   "current_citInitial": 1,
   "eqLabelWithNumbers": true,
   "eqNumInitial": 1,
   "hotkeys": {
    "equation": "Ctrl-E",
    "itemize": "Ctrl-I"
   },
   "labels_anchors": false,
   "latex_user_defs": false,
   "report_style_numbering": false,
   "user_envs_cfg": false
  }
 },
 "nbformat": 4,
 "nbformat_minor": 5
}
