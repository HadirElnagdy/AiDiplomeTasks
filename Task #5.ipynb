{
 "cells": [
  {
   "cell_type": "markdown",
   "id": "97ee3375",
   "metadata": {},
   "source": [
    "# Unordered set"
   ]
  },
  {
   "cell_type": "code",
   "execution_count": 21,
   "id": "6bab1375",
   "metadata": {
    "ExecuteTime": {
     "end_time": "2021-08-06T13:46:34.528838Z",
     "start_time": "2021-08-06T13:46:34.525195Z"
    }
   },
   "outputs": [],
   "source": [
    "def addToSet(element, USet):\n",
    "    if(USet.count(element)==0):\n",
    "        USet.append(element)\n",
    "def printSet(USet):\n",
    "    for i in USet:\n",
    "        print(i)"
   ]
  },
  {
   "cell_type": "code",
   "execution_count": 20,
   "id": "8aa4b5d1",
   "metadata": {
    "ExecuteTime": {
     "end_time": "2021-08-06T13:43:44.101715Z",
     "start_time": "2021-08-06T13:43:44.096061Z"
    }
   },
   "outputs": [
    {
     "name": "stdout",
     "output_type": "stream",
     "text": [
      "0\n",
      "7\n",
      "3\n",
      "8\n",
      "1\n"
     ]
    }
   ],
   "source": [
    "USet = []\n",
    "addToSet(0, USet)\n",
    "addToSet(7, USet)\n",
    "addToSet(3, USet)\n",
    "addToSet(8, USet)\n",
    "addToSet(8, USet)\n",
    "addToSet(1, USet)\n",
    "addToSet(1, USet)\n",
    "printSet(USet)"
   ]
  },
  {
   "cell_type": "markdown",
   "id": "ab8d6e1d",
   "metadata": {},
   "source": [
    "# Lower bound"
   ]
  },
  {
   "cell_type": "code",
   "execution_count": 17,
   "id": "5269eda2",
   "metadata": {
    "ExecuteTime": {
     "end_time": "2021-08-06T13:05:13.283926Z",
     "start_time": "2021-08-06T13:05:08.206980Z"
    }
   },
   "outputs": [
    {
     "name": "stdout",
     "output_type": "stream",
     "text": [
      "Enter the number you're searching for: 4\n",
      "Not found\n",
      "\n"
     ]
    }
   ],
   "source": [
    "def lower_bound(arr, n, target):\n",
    "    ans = -1\n",
    "    l = 0\n",
    "    r = n-1\n",
    "    mid = l + (r-l)//2\n",
    "    while l <= r:\n",
    "        mid = l + (r-l)//2 \n",
    "        if arr[mid] == target:\n",
    "            ans = mid\n",
    "            r = mid - 1\n",
    "        elif arr[mid] > target:\n",
    "            r = mid - 1    \n",
    "        else:\n",
    "            l = mid + 1\n",
    "    \n",
    "    if(ans==-1): return \"Not found\\n\"\n",
    "    else: return ans\n",
    "\n",
    "\n",
    "arr = [1, 1, 2, 2, 2, 3, 5, 5, 6, 6, 7, 8, 12]\n",
    "n = len(arr)   \n",
    "target = int(input(\"Enter the number you're searching for: \"))\n",
    "print(lower_bound(arr, n, target))"
   ]
  },
  {
   "cell_type": "markdown",
   "id": "2a76dc2e",
   "metadata": {},
   "source": [
    "# SOLID Principles\n",
    "1. Single Responsibility\n",
    "2. Open/Closed\n",
    "3. Liskov Substitution\n",
    "4. Interface Segregation\n",
    "5. Dependency Inversion"
   ]
  },
  {
   "cell_type": "markdown",
   "id": "c8a3d234",
   "metadata": {},
   "source": [
    "### 1. Single resposibility\n",
    "\n",
    "Let's begin with the single responsibility principle. As we might expect, this principle states that a class should only have one responsibility. Furthermore, it should only have one reason to change.\n",
    "\n",
    "How does this principle help us to build better software? Let's see a few of its benefits:\n",
    "\n",
    "1. Testing – A class with one responsibility will have far fewer test cases.\n",
    "2. Lower coupling – Less functionality in a single class will have fewer dependencies.\n",
    "3. Organization – Smaller, well-organized classes are easier to search than monolithic ones."
   ]
  },
  {
   "cell_type": "markdown",
   "id": "8e50e31b",
   "metadata": {},
   "source": [
    "### 2. Open for extention, closed for modification\n",
    "\n",
    "It's now time for the O in SOLID, known as the open-closed principle. Simply put, classes should be open for extension but closed for modification. In doing so, we stop ourselves from modifying existing code and causing potential new bugs in an otherwise happy application.\n",
    "\n",
    "Of course, the one exception to the rule is when fixing bugs in existing code."
   ]
  },
  {
   "cell_type": "markdown",
   "id": "18699ec1",
   "metadata": {},
   "source": [
    "### 3. Liskov Substitution\n",
    "Next on our list is Liskov substitution, which is arguably the most complex of the five principles. Simply put, if class A is a subtype of class B, we should be able to replace B with A without disrupting the behavior of our program.\n",
    "\n",
    "#momken astbdl l parent class b child 3ady"
   ]
  },
  {
   "cell_type": "markdown",
   "id": "c6a4c962",
   "metadata": {},
   "source": [
    "### 4. Interface Segregation\n",
    "The I  in SOLID stands for interface segregation, and it simply means that larger interfaces should be split into smaller ones. By doing so, we can ensure that implementing classes only need to be concerned about the methods that are of interest to them."
   ]
  },
  {
   "cell_type": "markdown",
   "id": "3f26ec8e",
   "metadata": {},
   "source": [
    "### 5. Dependency Inversion\n",
    "The principle of dependency inversion refers to the decoupling of software modules. This way, instead of high-level modules depending on low-level modules, both will depend on abstractions.\n",
    "\n"
   ]
  }
 ],
 "metadata": {
  "kernelspec": {
   "display_name": "Python 3",
   "language": "python",
   "name": "python3"
  },
  "language_info": {
   "codemirror_mode": {
    "name": "ipython",
    "version": 3
   },
   "file_extension": ".py",
   "mimetype": "text/x-python",
   "name": "python",
   "nbconvert_exporter": "python",
   "pygments_lexer": "ipython3",
   "version": "3.8.8"
  },
  "latex_envs": {
   "LaTeX_envs_menu_present": true,
   "autoclose": false,
   "autocomplete": true,
   "bibliofile": "biblio.bib",
   "cite_by": "apalike",
   "current_citInitial": 1,
   "eqLabelWithNumbers": true,
   "eqNumInitial": 1,
   "hotkeys": {
    "equation": "Ctrl-E",
    "itemize": "Ctrl-I"
   },
   "labels_anchors": false,
   "latex_user_defs": false,
   "report_style_numbering": false,
   "user_envs_cfg": false
  }
 },
 "nbformat": 4,
 "nbformat_minor": 5
}
