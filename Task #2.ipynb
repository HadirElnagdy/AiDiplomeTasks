{
 "cells": [
  {
   "cell_type": "markdown",
   "id": "7c841b52",
   "metadata": {},
   "source": [
    "## First Task\n"
   ]
  },
  {
   "cell_type": "markdown",
   "id": "b1b38ca1",
   "metadata": {},
   "source": [
    "remove element that occured more than one time"
   ]
  },
  {
   "cell_type": "code",
   "execution_count": 12,
   "id": "40cd2293",
   "metadata": {},
   "outputs": [
    {
     "name": "stdout",
     "output_type": "stream",
     "text": [
      "{1, 2, 3, 4, 5, 7}\n"
     ]
    }
   ],
   "source": [
    "s = {1, 1, 3, 4, 4, 7, 7, 3, 2, 5}\n",
    "print(s);\n"
   ]
  },
  {
   "cell_type": "markdown",
   "id": "561c2542",
   "metadata": {},
   "source": [
    "## Second Task"
   ]
  },
  {
   "cell_type": "markdown",
   "id": "27f2217c",
   "metadata": {},
   "source": [
    "How to print Ascii rep of a char"
   ]
  },
  {
   "cell_type": "code",
   "execution_count": 10,
   "id": "9c2de276",
   "metadata": {},
   "outputs": [
    {
     "name": "stdout",
     "output_type": "stream",
     "text": [
      "Enter a char: b\n",
      "98\n"
     ]
    }
   ],
   "source": [
    "c = input(\"Enter a char: \")\n",
    "print(ord(c))"
   ]
  },
  {
   "cell_type": "markdown",
   "id": "87d6fc64",
   "metadata": {},
   "source": [
    "## Third Task"
   ]
  },
  {
   "cell_type": "markdown",
   "id": "60be9b89",
   "metadata": {},
   "source": [
    "Take 2 num from user, type of operation and output the result"
   ]
  },
  {
   "cell_type": "code",
   "execution_count": 16,
   "id": "32426132",
   "metadata": {},
   "outputs": [
    {
     "name": "stdout",
     "output_type": "stream",
     "text": [
      "Enter the first operand: 4\n",
      "Enter the second operand: 2\n",
      "Enter the operation (+, -, *, /): /\n",
      "Result = \n",
      "2.0\n"
     ]
    }
   ],
   "source": [
    "x = int(input(\"Enter the first operand: \"))\n",
    "y = int(input(\"Enter the second operand: \"))\n",
    "c = input(\"Enter the operation (+, -, *, /): \")\n",
    "print(\"Result = \")\n",
    "if(c==\"+\"):\n",
    "    print(x+y)\n",
    "elif(c=='-'):\n",
    "    print(x-y)\n",
    "elif(c=='*'):\n",
    "    print(x*y )\n",
    "else:\n",
    "    print(x/y)\n",
    "    "
   ]
  }
 ],
 "metadata": {
  "kernelspec": {
   "display_name": "Python 3",
   "language": "python",
   "name": "python3"
  },
  "language_info": {
   "codemirror_mode": {
    "name": "ipython",
    "version": 3
   },
   "file_extension": ".py",
   "mimetype": "text/x-python",
   "name": "python",
   "nbconvert_exporter": "python",
   "pygments_lexer": "ipython3",
   "version": "3.8.8"
  }
 },
 "nbformat": 4,
 "nbformat_minor": 5
}
