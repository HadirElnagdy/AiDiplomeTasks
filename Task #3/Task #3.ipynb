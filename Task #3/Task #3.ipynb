{
 "cells": [
  {
   "cell_type": "markdown",
   "id": "bae194f3",
   "metadata": {},
   "source": [
    "# Task 1 \n",
    "create your own module and add at least 3 functions and 3 variables"
   ]
  },
  {
   "cell_type": "code",
   "execution_count": 12,
   "id": "5b0d47ad",
   "metadata": {
    "ExecuteTime": {
     "end_time": "2021-08-06T14:39:39.326269Z",
     "start_time": "2021-08-06T14:39:39.318613Z"
    }
   },
   "outputs": [
    {
     "name": "stdout",
     "output_type": "stream",
     "text": [
      "500.0\n",
      "15\n",
      "600\n"
     ]
    },
    {
     "data": {
      "text/plain": [
       "['__builtins__',\n",
       " '__cached__',\n",
       " '__doc__',\n",
       " '__file__',\n",
       " '__loader__',\n",
       " '__name__',\n",
       " '__package__',\n",
       " '__spec__',\n",
       " 'addBonus',\n",
       " 'addPercentage',\n",
       " 'eidBonus',\n",
       " 'managerSalary',\n",
       " 'paidLeave',\n",
       " 'ramadanBonus']"
      ]
     },
     "execution_count": 12,
     "metadata": {},
     "output_type": "execute_result"
    }
   ],
   "source": [
    "import salary\n",
    "print(salary.eidBonus)\n",
    "print(salary.paidLeave)\n",
    "print(salary.managerSalary(300))\n",
    "dir(salary)"
   ]
  }
 ],
 "metadata": {
  "kernelspec": {
   "display_name": "Python 3",
   "language": "python",
   "name": "python3"
  },
  "language_info": {
   "codemirror_mode": {
    "name": "ipython",
    "version": 3
   },
   "file_extension": ".py",
   "mimetype": "text/x-python",
   "name": "python",
   "nbconvert_exporter": "python",
   "pygments_lexer": "ipython3",
   "version": "3.8.8"
  },
  "latex_envs": {
   "LaTeX_envs_menu_present": true,
   "autoclose": false,
   "autocomplete": true,
   "bibliofile": "biblio.bib",
   "cite_by": "apalike",
   "current_citInitial": 1,
   "eqLabelWithNumbers": true,
   "eqNumInitial": 1,
   "hotkeys": {
    "equation": "Ctrl-E",
    "itemize": "Ctrl-I"
   },
   "labels_anchors": false,
   "latex_user_defs": false,
   "report_style_numbering": false,
   "user_envs_cfg": false
  }
 },
 "nbformat": 4,
 "nbformat_minor": 5
}
